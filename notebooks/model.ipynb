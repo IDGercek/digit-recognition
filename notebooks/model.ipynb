{
 "cells": [
  {
   "cell_type": "markdown",
   "id": "89bccb3c",
   "metadata": {},
   "source": [
    "# Setup"
   ]
  },
  {
   "cell_type": "code",
   "execution_count": 52,
   "id": "458da0c6",
   "metadata": {},
   "outputs": [],
   "source": [
    "# Import libraries\n",
    "\n",
    "import numpy as np\n",
    "import matplotlib.pyplot as plt\n",
    "\n",
    "import torch\n",
    "import torch.nn as nn\n",
    "import torch.nn.functional as F\n",
    "from torch.utils.data import DataLoader\n",
    "\n",
    "from torchvision import datasets, transforms"
   ]
  },
  {
   "cell_type": "code",
   "execution_count": 55,
   "id": "385ea033",
   "metadata": {},
   "outputs": [
    {
     "name": "stdout",
     "output_type": "stream",
     "text": [
      "Using device: cuda\n"
     ]
    }
   ],
   "source": [
    "device = \"cuda\" if torch.cuda.is_available() else \"cpu\"\n",
    "print(f\"Using device: {device}\")"
   ]
  },
  {
   "cell_type": "code",
   "execution_count": 143,
   "id": "5b88a055",
   "metadata": {},
   "outputs": [],
   "source": [
    "# Load data\n",
    "\n",
    "transform = transforms.Compose([\n",
    "    transforms.ToTensor(),\n",
    "    transforms.Normalize((0.5,), (0.5,))\n",
    "])\n",
    "\n",
    "train_dataset = datasets.MNIST(root=\"../data\", train=True, transform=transform, download=True)\n",
    "test_dataset = datasets.MNIST(root=\"../data\", train=False, transform=transform, download=True)"
   ]
  },
  {
   "cell_type": "code",
   "execution_count": null,
   "id": "91c6b904",
   "metadata": {},
   "outputs": [],
   "source": [
    "batch_size = 64\n",
    "train_dataloader = DataLoader(train_dataset, batch_size=batch_size, shuffle=True)\n",
    "test_dataloader = DataLoader(test_dataset, batch_size=batch_size, shuffle=False)"
   ]
  },
  {
   "cell_type": "markdown",
   "id": "43fb801e",
   "metadata": {},
   "source": [
    "# Training"
   ]
  },
  {
   "cell_type": "code",
   "execution_count": 146,
   "id": "2bdece28",
   "metadata": {},
   "outputs": [],
   "source": [
    "# Model\n",
    "\n",
    "class DigitNet(nn.Module):\n",
    "    def __init__(self):\n",
    "        super().__init__()\n",
    "\n",
    "        self.conv1 = nn.Conv2d(1, 32, kernel_size=3, padding=1)\n",
    "        self.pool1 = nn.MaxPool2d(2, 2)\n",
    "        self.conv2 = nn.Conv2d(32, 64, kernel_size=3, padding=1)\n",
    "        self.pool2 = nn.MaxPool2d(2, 2)\n",
    "        self.fc1 = nn.Linear(64 * 7 * 7, 128)\n",
    "        self.fc2 = nn.Linear(128, 10)\n",
    "\n",
    "    def forward(self, X):\n",
    "        x = self.pool1(F.relu(self.conv1(X))) # 1x28x28 --> convolution --> 32x28x28 -->  maxpool --> 32x14x14\n",
    "        x = self.pool2(F.relu(self.conv2(x))) # 32x14x14 --> convolution --> 64x14x14 --> maxpool --> 64x7x7\n",
    "        x = x.view(-1, 64 * 7 * 7) # 64x7x7 --> 3136\n",
    "        x = F.relu(self.fc1(x)) # 3136 --> 128\n",
    "        x = self.fc2(x) # 128 --> 10\n",
    "        return x"
   ]
  },
  {
   "cell_type": "code",
   "execution_count": 147,
   "id": "37114698",
   "metadata": {},
   "outputs": [
    {
     "data": {
      "text/plain": [
       "DigitNet(\n",
       "  (conv1): Conv2d(1, 32, kernel_size=(3, 3), stride=(1, 1), padding=(1, 1))\n",
       "  (pool1): MaxPool2d(kernel_size=2, stride=2, padding=0, dilation=1, ceil_mode=False)\n",
       "  (conv2): Conv2d(32, 64, kernel_size=(3, 3), stride=(1, 1), padding=(1, 1))\n",
       "  (pool2): MaxPool2d(kernel_size=2, stride=2, padding=0, dilation=1, ceil_mode=False)\n",
       "  (fc1): Linear(in_features=3136, out_features=128, bias=True)\n",
       "  (fc2): Linear(in_features=128, out_features=10, bias=True)\n",
       ")"
      ]
     },
     "execution_count": 147,
     "metadata": {},
     "output_type": "execute_result"
    }
   ],
   "source": [
    "model = DigitNet().to(device)\n",
    "model"
   ]
  },
  {
   "cell_type": "code",
   "execution_count": 157,
   "id": "aa68e6bb",
   "metadata": {},
   "outputs": [
    {
     "name": "stdout",
     "output_type": "stream",
     "text": [
      "Parameter count: 421642\n"
     ]
    }
   ],
   "source": [
    "print(f\"Parameter count: {sum(p.numel() for p in model.parameters())}\") "
   ]
  },
  {
   "cell_type": "code",
   "execution_count": 148,
   "id": "d1c3a25d",
   "metadata": {},
   "outputs": [],
   "source": [
    "criterion = nn.CrossEntropyLoss()\n",
    "optimizer = torch.optim.Adam(params=model.parameters(),\n",
    "                             lr=0.001)"
   ]
  },
  {
   "cell_type": "code",
   "execution_count": 152,
   "id": "6a4bdd75",
   "metadata": {},
   "outputs": [],
   "source": [
    "def train_step():\n",
    "    model.train()\n",
    "\n",
    "    train_loss = 0.0\n",
    "    train_acc = 0.0\n",
    "\n",
    "    for batch, (X, y) in enumerate(train_dataloader):\n",
    "        X = X.to(device)\n",
    "        y = y.to(device)\n",
    "\n",
    "        # Forward pass\n",
    "        y_logits = model(X)\n",
    "        y_pred_probs = torch.softmax(y_logits, dim=1)\n",
    "        y_preds = torch.argmax(y_pred_probs, dim=1)\n",
    "\n",
    "        # Loss\n",
    "        loss = criterion(y_logits, y)\n",
    "        train_loss += loss\n",
    "\n",
    "        # Accuracy\n",
    "        acc = (y_preds == y).sum().item() / len(y)\n",
    "        train_acc += acc\n",
    "        \n",
    "        # Backprop\n",
    "        optimizer.zero_grad()\n",
    "        loss.backward()\n",
    "        optimizer.step()\n",
    "\n",
    "    train_loss /= len(train_dataloader)\n",
    "    train_acc /= len(train_dataloader)\n",
    "    return train_loss, train_acc"
   ]
  },
  {
   "cell_type": "code",
   "execution_count": 153,
   "id": "8d9715ab",
   "metadata": {},
   "outputs": [],
   "source": [
    "def test_step():\n",
    "    model.eval()\n",
    "\n",
    "    test_loss = 0.0\n",
    "    test_acc = 0.0\n",
    "\n",
    "    for batch, (X, y) in enumerate(test_dataloader):\n",
    "        X = X.to(device)\n",
    "        y = y.to(device)\n",
    "        \n",
    "        # Forward pass\n",
    "        y_logits = model(X)\n",
    "        y_pred_probs = torch.softmax(y_logits, dim=1)\n",
    "        y_preds = torch.argmax(y_pred_probs, dim=1)\n",
    "\n",
    "        # Loss\n",
    "        loss = criterion(y_logits, y)\n",
    "        test_loss += loss\n",
    "\n",
    "        # Accuracy\n",
    "        acc = (y_preds == y).sum().item() / len(y)\n",
    "        test_acc += acc\n",
    "    \n",
    "    test_loss /= len(test_dataloader)\n",
    "    test_acc /= len(test_dataloader)\n",
    "    return test_loss, test_acc"
   ]
  },
  {
   "cell_type": "code",
   "execution_count": null,
   "id": "d477f7b0",
   "metadata": {},
   "outputs": [],
   "source": [
    "# Initialize metrics\n",
    "\n",
    "metrics = {}\n",
    "metrics[\"model\"] = str(model)\n",
    "metrics[\"train_losses\"] = []\n",
    "metrics[\"train_accuracies\"] = []\n",
    "metrics[\"test_losses\"] = []\n",
    "metrics[\"test_accuracies\"] = []\n",
    "\n",
    "metrics"
   ]
  },
  {
   "cell_type": "code",
   "execution_count": null,
   "id": "60e7a292",
   "metadata": {},
   "outputs": [],
   "source": [
    "# Training\n",
    "\n",
    "epochs = 3\n",
    "\n",
    "for epoch in range(epochs):\n",
    "    train_loss, train_acc = train_step()\n",
    "    test_loss, test_acc = test_step()\n",
    "\n",
    "    metrics[\"train_losses\"].append(train_loss.item())\n",
    "    metrics[\"train_accuracies\"].append(train_acc)\n",
    "    metrics[\"test_losses\"].append(test_loss.item())\n",
    "    metrics[\"test_accuracies\"].append(test_acc)\n",
    "\n",
    "    if epoch % (epochs/10) == 0 or epoch == epochs-1:\n",
    "        print(f\"Epoch: {epoch} | Train Loss: {train_loss:.4f} | Train Acc: {train_acc:.2f}% | Test Loss: {test_loss:.4f} | Test Acc: {test_acc:.2f}%\")"
   ]
  },
  {
   "cell_type": "code",
   "execution_count": null,
   "id": "440b6797",
   "metadata": {},
   "outputs": [],
   "source": [
    "def plot_metrics(metrics: dict):\n",
    "    x = range(0, len(metrics[\"train_losses\"]))\n",
    "\n",
    "    plt.figure(figsize=(15, 6))\n",
    "\n",
    "    plt.subplot(2, 1, 1)\n",
    "    plt.title(\"Loss\")\n",
    "    plt.plot(x, metrics[\"train_losses\"], label=\"Train Losses\")\n",
    "    plt.plot(x, metrics[\"test_losses\"], label=\"Test Losses\")\n",
    "    plt.legend()\n",
    "\n",
    "    plt.subplot(2, 1, 2)\n",
    "    plt.title(\"Accuracy\")\n",
    "    plt.plot(x, metrics[\"train_accuracies\"], label=\"Train Accuracies\")\n",
    "    plt.plot(x, metrics[\"test_accuracies\"], label=\"Test Accuracies\")\n",
    "    plt.legend()\n",
    "\n",
    "    plt.show()\n",
    "\n",
    "plot_metrics(metrics)"
   ]
  }
 ],
 "metadata": {
  "kernelspec": {
   "display_name": "Python 3",
   "language": "python",
   "name": "python3"
  },
  "language_info": {
   "codemirror_mode": {
    "name": "ipython",
    "version": 3
   },
   "file_extension": ".py",
   "mimetype": "text/x-python",
   "name": "python",
   "nbconvert_exporter": "python",
   "pygments_lexer": "ipython3",
   "version": "3.10.6"
  }
 },
 "nbformat": 4,
 "nbformat_minor": 5
}
